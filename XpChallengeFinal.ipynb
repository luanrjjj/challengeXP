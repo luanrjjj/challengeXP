{
 "cells": [
  {
   "cell_type": "code",
   "execution_count": 29,
   "metadata": {},
   "outputs": [],
   "source": [
    "import requests\n",
    "import pandas as pd\n",
    "import numpy as np\n",
    "import re\n",
    "\n",
    "\n",
    "class SpaceXData:\n",
    "    def getAllLaunches(self):\n",
    "        url = \"https://api.spacexdata.com/v3/launches\"\n",
    "        res = self.__getData(url)\n",
    "        return self.__passResponseToDataFrame(res)\n",
    "\n",
    "    def getAllLaunchPads(self):\n",
    "        url = \"https://api.spacexdata.com/v3/launchpads\"\n",
    "        res = self.__getData(url)\n",
    "        return self.__passResponseToDataFrame(res)\n",
    "\n",
    "    def __passResponseToDataFrame(self, data):\n",
    "        return pd.read_json(data.text)\n",
    "\n",
    "    def __getData(self, url):\n",
    "        response = requests.request(\"GET\", url, headers={}, data={})\n",
    "        return response\n",
    "\n",
    "\n",
    "class Methods:\n",
    "\n",
    "    def getTheYearWithMoreLaunches(self, df):\n",
    "        if not set(['launch_year', 'flight_number']).issubset(df.columns):\n",
    "            raise ValueError(\"Dataframe hasn't the necessaries columns\")\n",
    "        result = df.groupby(['launch_year']).count().query(\n",
    "            'flight_number==flight_number.max()')\n",
    "        return result.loc[:, ['flight_number']]\n",
    "\n",
    "    def getTheLaunchPadWithMoreLaunches(self, df):\n",
    "        if not set(['name', 'attempted_launches']).issubset(df.columns):\n",
    "            raise ValueError(\"Dataframe hasn't the necessaries columns\")\n",
    "        result = df.query('attempted_launches==attempted_launches.max()')\n",
    "        return result.loc[:, ['name', 'attempted_launches']]\n",
    "\n",
    "    def getTotalLaunches(self, df, initial_year, final_year):\n",
    "        ini_year = int(initial_year)\n",
    "        fin_year = int(final_year)\n",
    "        array_of_years = sorted([ini_year, fin_year])\n",
    "        array_of_str = list(map(lambda x: str(x), array_of_years))\n",
    "\n",
    "        if not set(['launch_year', 'flight_number']).issubset(df.columns):\n",
    "            raise ValueError(\"Dataframe hasn't the necessaries columns\")\n",
    "\n",
    "        for year in array_of_str:\n",
    "            match = re.match(r'.*([0-2][0-9]{3})', year)\n",
    "            if match is None:\n",
    "                raise ValueError('Value is not  an acceptable argument')\n",
    "        res = df.groupby(['launch_year']).count()\n",
    "        return res.loc[array_of_str[0]:array_of_str[1]]['flight_number'].sum()"
   ]
  },
  {
   "cell_type": "code",
   "execution_count": 30,
   "metadata": {},
   "outputs": [
    {
     "name": "stderr",
     "output_type": "stream",
     "text": [
      "test_get_the_launchpad_with_more_launches (__main__.Test) ... ok\n",
      "test_get_the_year_with_more_launches (__main__.Test) ... ok\n",
      "test_get_total_launches (__main__.Test) ... ok\n",
      "test_incorrect_dataframe_in_get_launchpad_function (__main__.Test) ... ok\n",
      "test_incorrect_dataframe_in_get_the_year_with_more_launches (__main__.Test) ... ok\n",
      "test_incorrect_dataframe_in_get_total_launches_function (__main__.Test) ... ok\n",
      "\n",
      "----------------------------------------------------------------------\n",
      "Ran 6 tests in 43.056s\n",
      "\n",
      "OK\n"
     ]
    }
   ],
   "source": [
    "spaceXData = SpaceXData()\n",
    "methods = Methods()\n",
    "\n",
    "\n",
    "class Test(unittest.TestCase):\n",
    "\n",
    "    def test_get_the_year_with_more_launches(self):\n",
    "        df = spaceXData.getAllLaunches()\n",
    "        result = methods.getTheYearWithMoreLaunches(df)\n",
    "        self.assertEqual(result.index[0], 2020)\n",
    "        self.assertEqual(result.values[0][0], 25)\n",
    "\n",
    "    def test_get_the_launchpad_with_more_launches(self):\n",
    "        df = spaceXData.getAllLaunchPads()\n",
    "        result = methods.getTheLaunchPadWithMoreLaunches(df)\n",
    "        self.assertEqual(result['name'][1], 'CCAFS SLC 40')\n",
    "\n",
    "    def test_get_total_launches(self):\n",
    "        df = spaceData.getAllLaunches()\n",
    "        result = methods.getTotalLaunches(df, 2019, 2021)\n",
    "        self.assertEqual(result, 38)\n",
    "\n",
    "    def test_incorrect_dataframe_in_get_the_year_with_more_launches(self):\n",
    "        df_mock = pd.DataFrame(np.array([[1, 2, 3], [4, 5, 6], [7, 8, 9]]),\n",
    "                               columns=['a', 'b', 'c'])\n",
    "        with self.assertRaises(Exception) as context:\n",
    "            methods.getTheYearWithMoreLaunches(df_mock)\n",
    "            self.assertTrue(\n",
    "                \"Dataframe hasn't the necessaries columns\"\n",
    "                in context.exception)\n",
    "\n",
    "    def test_incorrect_dataframe_in_get_launchpad_function(self):\n",
    "        df_mock = pd.DataFrame(np.array([[1, 2, 3], [4, 5, 6], [7, 8, 9]]),\n",
    "                               columns=['a', 'b', 'c'])\n",
    "        with self.assertRaises(Exception) as context:\n",
    "            methods.getTheLaunchPadWithMoreLaunches(df_mock)\n",
    "            self.assertTrue(\n",
    "                \"Dataframe hasn't the necessaries columns\"\n",
    "                in context.exception)\n",
    "\n",
    "    def test_incorrect_dataframe_in_get_total_launches_function(self):\n",
    "        df_mock = pd.DataFrame(np.array([[1, 2, 3], [4, 5, 6], [7, 8, 9]]),\n",
    "                               columns=['a', 'b', 'c'])\n",
    "        with self.assertRaises(Exception) as context:\n",
    "            methods.getTotalLaunches(df_mock)\n",
    "            self.assertTrue(\n",
    "                \"Dataframe hasn't the necessaries columns\"\n",
    "                in context.exception)\n",
    "\n",
    "res = unittest.main(argv=[''], verbosity=4, exit=False)\n",
    "# if we want our notebook to stop processing due to failures, we need a cell itself to fail\n",
    "assert len(res.result.failures) == 0\n"
   ]
  },
  {
   "cell_type": "code",
   "execution_count": 31,
   "metadata": {},
   "outputs": [],
   "source": [
    "methods = Methods()\n",
    "spaceData = SpaceXData()\n",
    "all_launches = spaceData.getAllLaunches()\n",
    "all_launch_pads = spaceData.getAllLaunchPads()\n",
    "\n",
    "first_question = methods.getTheYearWithMoreLaunches(all_launches)\n",
    "second_question = methods.getTheLaunchPadWithMoreLaunches(all_launch_pads)\n",
    "third_question = methods.getTotalLaunches(all_launches, 2019, 2021)\n",
    "\n",
    "third_question_to_df = pd.DataFrame({'total_sum':[third_question]}, index=[1])\n",
    "\n",
    "# third_question = methods.getTotalLaunches(2019,2021)"
   ]
  },
  {
   "cell_type": "code",
   "execution_count": 32,
   "metadata": {},
   "outputs": [
    {
     "data": {
      "text/html": [
       "<div>\n",
       "<style scoped>\n",
       "    .dataframe tbody tr th:only-of-type {\n",
       "        vertical-align: middle;\n",
       "    }\n",
       "\n",
       "    .dataframe tbody tr th {\n",
       "        vertical-align: top;\n",
       "    }\n",
       "\n",
       "    .dataframe thead th {\n",
       "        text-align: right;\n",
       "    }\n",
       "</style>\n",
       "<table border=\"1\" class=\"dataframe\">\n",
       "  <thead>\n",
       "    <tr style=\"text-align: right;\">\n",
       "      <th></th>\n",
       "      <th>flight_number</th>\n",
       "    </tr>\n",
       "    <tr>\n",
       "      <th>launch_year</th>\n",
       "      <th></th>\n",
       "    </tr>\n",
       "  </thead>\n",
       "  <tbody>\n",
       "    <tr>\n",
       "      <th>2020</th>\n",
       "      <td>25</td>\n",
       "    </tr>\n",
       "  </tbody>\n",
       "</table>\n",
       "</div>"
      ],
      "text/plain": [
       "             flight_number\n",
       "launch_year               \n",
       "2020                    25"
      ]
     },
     "execution_count": 32,
     "metadata": {},
     "output_type": "execute_result"
    }
   ],
   "source": [
    "first_question"
   ]
  },
  {
   "cell_type": "code",
   "execution_count": 33,
   "metadata": {},
   "outputs": [
    {
     "data": {
      "text/html": [
       "<div>\n",
       "<style scoped>\n",
       "    .dataframe tbody tr th:only-of-type {\n",
       "        vertical-align: middle;\n",
       "    }\n",
       "\n",
       "    .dataframe tbody tr th {\n",
       "        vertical-align: top;\n",
       "    }\n",
       "\n",
       "    .dataframe thead th {\n",
       "        text-align: right;\n",
       "    }\n",
       "</style>\n",
       "<table border=\"1\" class=\"dataframe\">\n",
       "  <thead>\n",
       "    <tr style=\"text-align: right;\">\n",
       "      <th></th>\n",
       "      <th>name</th>\n",
       "      <th>attempted_launches</th>\n",
       "    </tr>\n",
       "  </thead>\n",
       "  <tbody>\n",
       "    <tr>\n",
       "      <th>1</th>\n",
       "      <td>CCAFS SLC 40</td>\n",
       "      <td>61</td>\n",
       "    </tr>\n",
       "  </tbody>\n",
       "</table>\n",
       "</div>"
      ],
      "text/plain": [
       "           name  attempted_launches\n",
       "1  CCAFS SLC 40                  61"
      ]
     },
     "execution_count": 33,
     "metadata": {},
     "output_type": "execute_result"
    }
   ],
   "source": [
    "second_question"
   ]
  },
  {
   "cell_type": "code",
   "execution_count": 35,
   "metadata": {},
   "outputs": [
    {
     "data": {
      "text/html": [
       "<div>\n",
       "<style scoped>\n",
       "    .dataframe tbody tr th:only-of-type {\n",
       "        vertical-align: middle;\n",
       "    }\n",
       "\n",
       "    .dataframe tbody tr th {\n",
       "        vertical-align: top;\n",
       "    }\n",
       "\n",
       "    .dataframe thead th {\n",
       "        text-align: right;\n",
       "    }\n",
       "</style>\n",
       "<table border=\"1\" class=\"dataframe\">\n",
       "  <thead>\n",
       "    <tr style=\"text-align: right;\">\n",
       "      <th></th>\n",
       "      <th>total_sum</th>\n",
       "    </tr>\n",
       "  </thead>\n",
       "  <tbody>\n",
       "    <tr>\n",
       "      <th>1</th>\n",
       "      <td>38</td>\n",
       "    </tr>\n",
       "  </tbody>\n",
       "</table>\n",
       "</div>"
      ],
      "text/plain": [
       "   total_sum\n",
       "1         38"
      ]
     },
     "execution_count": 35,
     "metadata": {},
     "output_type": "execute_result"
    }
   ],
   "source": [
    "third_question_to_df"
   ]
  },
  {
   "cell_type": "code",
   "execution_count": 36,
   "metadata": {},
   "outputs": [],
   "source": [
    "writer = pd.ExcelWriter('challenge_result.xlsx', engine='xlsxwriter')\n",
    "\n",
    "first_question.to_excel(writer, sheet_name=\"Questão_1\")\n",
    "second_question.to_excel(writer, sheet_name=\"Questão_2\")\n",
    "third_question_to_df.to_excel(writer, sheet_name=\"Questão_3\")\n",
    "\n",
    "writer.save()"
   ]
  },
  {
   "cell_type": "code",
   "execution_count": null,
   "metadata": {},
   "outputs": [],
   "source": []
  }
 ],
 "metadata": {
  "kernelspec": {
   "display_name": "Python 3",
   "language": "python",
   "name": "python3"
  },
  "language_info": {
   "codemirror_mode": {
    "name": "ipython",
    "version": 3
   },
   "file_extension": ".py",
   "mimetype": "text/x-python",
   "name": "python",
   "nbconvert_exporter": "python",
   "pygments_lexer": "ipython3",
   "version": "3.7.6"
  }
 },
 "nbformat": 4,
 "nbformat_minor": 4
}
